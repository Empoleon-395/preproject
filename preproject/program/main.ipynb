{
 "cells": [
  {
   "cell_type": "markdown",
   "source": [
    "# インターンレビューデータの分析"
   ],
   "metadata": {}
  },
  {
   "cell_type": "markdown",
   "source": [
    "## 前準備"
   ],
   "metadata": {}
  },
  {
   "cell_type": "markdown",
   "source": [
    "### 必要なパッケージ類のインポート"
   ],
   "metadata": {}
  },
  {
   "cell_type": "code",
   "execution_count": 1,
   "source": [
    "import pandas as pd\n",
    "import numpy as np\n",
    "import os\n",
    "import random\n",
    "import collections"
   ],
   "outputs": [],
   "metadata": {}
  },
  {
   "cell_type": "markdown",
   "source": [
    "### 自作関数のインポート"
   ],
   "metadata": {}
  },
  {
   "cell_type": "code",
   "execution_count": 2,
   "source": [
    "from BertSequenceVectorizer import BertSequenceVectorizer\n",
    "from my_labspread import my_labspread\n",
    "from data_mold import data_mold\n",
    "from my_word2vec import my_word2vec"
   ],
   "outputs": [],
   "metadata": {}
  },
  {
   "cell_type": "markdown",
   "source": [
    "### データの読み込み"
   ],
   "metadata": {}
  },
  {
   "cell_type": "code",
   "execution_count": 3,
   "source": [
    "df=pd.read_csv(\"../data/rev_df.csv\")"
   ],
   "outputs": [],
   "metadata": {}
  },
  {
   "cell_type": "markdown",
   "source": [
    "### テキストデータの分かち書き"
   ],
   "metadata": {}
  },
  {
   "cell_type": "code",
   "execution_count": 4,
   "source": [
    "word_list=data_mold(df).return_word_list()\n"
   ],
   "outputs": [],
   "metadata": {}
  },
  {
   "cell_type": "markdown",
   "source": [
    "### 再現性確保のため乱数を固定"
   ],
   "metadata": {}
  },
  {
   "cell_type": "code",
   "execution_count": 5,
   "source": [
    "SEED_VALUE = 1\n",
    "os.environ['PYTHONHASHSEED'] = str(SEED_VALUE)\n",
    "random.seed(SEED_VALUE)\n",
    "np.random.seed(SEED_VALUE)"
   ],
   "outputs": [],
   "metadata": {}
  },
  {
   "cell_type": "markdown",
   "source": [
    "## 業界、企業、業務理解に必要なもの"
   ],
   "metadata": {}
  },
  {
   "cell_type": "markdown",
   "source": [
    "### word2vecの実行"
   ],
   "metadata": {}
  },
  {
   "cell_type": "code",
   "execution_count": 6,
   "source": [
    "w2v=my_word2vec()\n",
    "w2v.fit(word_list)"
   ],
   "outputs": [],
   "metadata": {}
  },
  {
   "cell_type": "markdown",
   "source": [
    "### 業界理解についての出力"
   ],
   "metadata": {}
  },
  {
   "cell_type": "code",
   "execution_count": 7,
   "source": [
    "w2v.similar_2words(\"業界\",\"理解\")"
   ],
   "outputs": [
    {
     "output_type": "stream",
     "name": "stdout",
     "text": [
      "=========================================================================\n",
      " 業界 ＋ 理解 に最も近い単語 10 個\n",
      "SIer 0.9064555764198303\n",
      "立ち 0.8914197087287903\n",
      "位置 0.8573115468025208\n",
      "JSOL 0.8560431599617004\n",
      "醍醐味 0.8368632197380066\n",
      "IT 0.8262432813644409\n",
      "属する 0.8168585896492004\n",
      "NTT 0.8149785995483398\n",
      "深める 0.8081704378128052\n",
      "オービック 0.7754266858100891\n"
     ]
    }
   ],
   "metadata": {}
  },
  {
   "cell_type": "markdown",
   "source": [
    "### 企業理解についての出力"
   ],
   "metadata": {}
  },
  {
   "cell_type": "code",
   "execution_count": 8,
   "source": [
    "w2v.similar_2words(\"企業\",\"理解\")"
   ],
   "outputs": [
    {
     "output_type": "stream",
     "name": "stdout",
     "text": [
      "=========================================================================\n",
      " 企業 ＋ 理解 に最も近い単語 10 個\n",
      "SIer 0.9253706336021423\n",
      "業界 0.9022322297096252\n",
      "IT 0.8989577889442444\n",
      "立ち 0.8799300193786621\n",
      "NTT 0.8768252730369568\n",
      "JSOL 0.8669830560684204\n",
      "位置 0.8665380477905273\n",
      "醍醐味 0.8393935561180115\n",
      "通信 0.8382359743118286\n",
      "属する 0.812191367149353\n"
     ]
    }
   ],
   "metadata": {}
  },
  {
   "cell_type": "markdown",
   "source": [
    "### 業務理解についての出力"
   ],
   "metadata": {}
  },
  {
   "cell_type": "code",
   "execution_count": 9,
   "source": [
    "w2v.similar_2words(\"業務\",\"理解\")"
   ],
   "outputs": [
    {
     "output_type": "stream",
     "name": "stdout",
     "text": [
      "=========================================================================\n",
      " 業務 ＋ 理解 に最も近い単語 10 個\n",
      "SE 0.8442449569702148\n",
      "SIer 0.8410717248916626\n",
      "職種 0.8140532970428467\n",
      "立ち 0.8128588199615479\n",
      "システムエンジニア 0.7965976595878601\n",
      "詳しい 0.7952313423156738\n",
      "位置 0.7888145446777344\n",
      "醍醐味 0.7776718139648438\n",
      "体感 0.7647060751914978\n",
      "知る 0.7615416049957275\n"
     ]
    }
   ],
   "metadata": {}
  },
  {
   "cell_type": "markdown",
   "source": [
    "## 満足度についての分析"
   ],
   "metadata": {}
  },
  {
   "cell_type": "markdown",
   "source": [
    "### bertによるテキストデータのベクトル化"
   ],
   "metadata": {}
  },
  {
   "cell_type": "code",
   "execution_count": 10,
   "source": [
    "BSV = BertSequenceVectorizer()\n",
    "vec_df = df[\"rev_text\"].progress_apply(lambda x: BSV.vectorize(x))"
   ],
   "outputs": [
    {
     "output_type": "stream",
     "name": "stderr",
     "text": [
      "Some weights of the model checkpoint at cl-tohoku/bert-base-japanese-whole-word-masking were not used when initializing BertModel: ['cls.predictions.decoder.weight', 'cls.predictions.transform.dense.bias', 'cls.seq_relationship.bias', 'cls.seq_relationship.weight', 'cls.predictions.transform.dense.weight', 'cls.predictions.bias', 'cls.predictions.transform.LayerNorm.weight', 'cls.predictions.transform.LayerNorm.bias']\n",
      "- This IS expected if you are initializing BertModel from the checkpoint of a model trained on another task or with another architecture (e.g. initializing a BertForSequenceClassification model from a BertForPreTraining model).\n",
      "- This IS NOT expected if you are initializing BertModel from the checkpoint of a model that you expect to be exactly identical (initializing a BertForSequenceClassification model from a BertForSequenceClassification model).\n",
      "  0%|          | 11/2737 [00:01<06:50,  6.64it/s]Token indices sequence length is longer than the specified maximum sequence length for this model (698 > 512). Running this sequence through the model will result in indexing errors\n",
      "100%|██████████| 2737/2737 [09:07<00:00,  5.00it/s]\n"
     ]
    }
   ],
   "metadata": {}
  },
  {
   "cell_type": "markdown",
   "source": [
    "### データの処理(初期のラベルもここで設定)"
   ],
   "metadata": {}
  },
  {
   "cell_type": "code",
   "execution_count": 11,
   "source": [
    "initial_t_b_list=[845,1294,1391,1429,1751,1956,1964,2123,2442,2645]\n",
    "initial_t_g_list=[33,68,186,725,850,911,1255,1648,2088,2657]\n",
    "initial_t=pd.DataFrame({\"index\":initial_t_g_list+initial_t_b_list,\"teacher\":list(np.repeat(1,len(initial_t_g_list)))+list(np.repeat(0,len(initial_t_b_list)))})\n",
    "vec_list = vec_df\n",
    "teacher_list = [np.nan]*len(vec_list)\n",
    "for i in range(len(initial_t)):\n",
    "    teacher_list[initial_t[\"index\"][i]]=initial_t[\"teacher\"][i]\n",
    "\n",
    "y_data=[i for i in teacher_list]\n",
    "x_data=[vec_list[i] for i in range(len(teacher_list))]\n",
    "x_df=pd.DataFrame(x_data)\n",
    "x_y_df=pd.merge(x_df,pd.DataFrame({\"teacher\":y_data}),left_index = True,right_index = True)\n",
    "x_y_df=x_y_df.fillna(-1)\n",
    "x_data=x_y_df.drop(\"teacher\",axis=1)\n",
    "y_data=x_y_df[\"teacher\"]\n",
    "\n",
    "x_data.head()\n",
    "collections.Counter(y_data)"
   ],
   "outputs": [
    {
     "output_type": "execute_result",
     "data": {
      "text/plain": [
       "Counter({-1.0: 2717, 1.0: 10, 0.0: 10})"
      ]
     },
     "metadata": {},
     "execution_count": 11
    }
   ],
   "metadata": {}
  },
  {
   "cell_type": "markdown",
   "source": [
    "### ラベル拡張法による半教師あり学習"
   ],
   "metadata": {}
  },
  {
   "cell_type": "code",
   "execution_count": 12,
   "source": [
    "lbsp=my_labspread()\n",
    "lbsp.fit(x_data,y_data)\n",
    "pred_lb=lbsp.return_pre_lab(x_data)"
   ],
   "outputs": [],
   "metadata": {}
  },
  {
   "cell_type": "markdown",
   "source": [
    "### 導出されたラベルを俯瞰"
   ],
   "metadata": {}
  },
  {
   "cell_type": "code",
   "execution_count": 13,
   "source": [
    "collections.Counter(pred_lb)"
   ],
   "outputs": [
    {
     "output_type": "execute_result",
     "data": {
      "text/plain": [
       "Counter({1.0: 1347, 0.0: 1390})"
      ]
     },
     "metadata": {},
     "execution_count": 13
    }
   ],
   "metadata": {}
  },
  {
   "cell_type": "markdown",
   "source": [
    "### ラベルごとにデータを分割"
   ],
   "metadata": {}
  },
  {
   "cell_type": "code",
   "execution_count": 14,
   "source": [
    "x_py_df=pd.DataFrame({\"text\":word_list,\"teacher\":pred_lb})\n",
    "x_py_vec=pd.DataFrame({\"vec\":vec_df,\"teacher\":pred_lb})\n",
    "x_py_g_df=x_py_df[x_py_df[\"teacher\"]==1]\n",
    "x_py_b_df=x_py_df[x_py_df[\"teacher\"]==0]\n",
    "x_py_g_vec=x_py_vec[x_py_df[\"teacher\"]==1]\n",
    "x_py_b_vec=x_py_vec[x_py_df[\"teacher\"]==0]"
   ],
   "outputs": [],
   "metadata": {}
  },
  {
   "cell_type": "markdown",
   "source": [
    "### 分割されたデータごとにword2vecの実行"
   ],
   "metadata": {}
  },
  {
   "cell_type": "code",
   "execution_count": 15,
   "source": [
    "w2v_g=my_word2vec()\n",
    "w2v_b=my_word2vec()\n",
    "w2v_g.fit(word_list=x_py_g_df[\"text\"])\n",
    "w2v_b.fit(word_list=x_py_b_df[\"text\"])"
   ],
   "outputs": [],
   "metadata": {}
  },
  {
   "cell_type": "markdown",
   "source": [
    "### 出力用の関数を定義"
   ],
   "metadata": {}
  },
  {
   "cell_type": "code",
   "execution_count": 16,
   "source": [
    "def distance_2words(word1,word2):\n",
    "    print(\"満足度が高いレビューにおける「\",word1,\"」と「\",word2,\"」の距離：\",w2v_g.model.wv.distance(word1,word2))\n",
    "    print(\"満足度が低いレビューにおける「\",word1,\"」と「\",word2,\"」の距離：\",w2v_b.model.wv.distance(word1,word2))"
   ],
   "outputs": [],
   "metadata": {}
  },
  {
   "cell_type": "markdown",
   "source": [
    "### 高すぎる負荷の部分"
   ],
   "metadata": {}
  },
  {
   "cell_type": "code",
   "execution_count": 17,
   "source": [
    "distance_2words(\"内容\",\"つらい\")"
   ],
   "outputs": [
    {
     "output_type": "stream",
     "name": "stdout",
     "text": [
      "満足度が高いレビューにおける「 内容 」と「 つらい 」の距離： 0.4205319285392761\n",
      "満足度が低いレビューにおける「 内容 」と「 つらい 」の距離： 0.667744904756546\n"
     ]
    }
   ],
   "metadata": {}
  },
  {
   "cell_type": "markdown",
   "source": [
    "### ワークの有無の部分"
   ],
   "metadata": {}
  },
  {
   "cell_type": "code",
   "execution_count": 18,
   "source": [
    "def counter(word1,word2,li,hl):\n",
    "    n=0\n",
    "    for lis in li:\n",
    "        if word1 in lis or word2 in lis:\n",
    "            n+=1\n",
    "    print(\"満足度が\",hl,\"レビューでの「\",word1,\"」、「\",word2,\"」の出現頻度：\",n/len(li))\n",
    "\n",
    "counter(\"ワーク\",\"体験\",x_py_g_df[\"text\"],\"高い\")\n",
    "counter(\"ワーク\",\"体験\",x_py_b_df[\"text\"],\"低い\")"
   ],
   "outputs": [
    {
     "output_type": "stream",
     "name": "stdout",
     "text": [
      "満足度が 高い レビューでの「 ワーク 」、「 体験 」の出現頻度： 0.7446176688938382\n",
      "満足度が 低い レビューでの「 ワーク 」、「 体験 」の出現頻度： 0.8129496402877698\n"
     ]
    }
   ],
   "metadata": {}
  },
  {
   "cell_type": "markdown",
   "source": [
    "### ワークの質の部分"
   ],
   "metadata": {}
  },
  {
   "cell_type": "code",
   "execution_count": 19,
   "source": [
    "distance_2words(\"ワーク\",\"退屈\")"
   ],
   "outputs": [
    {
     "output_type": "stream",
     "name": "stdout",
     "text": [
      "満足度が高いレビューにおける「 ワーク 」と「 退屈 」の距離： 0.35932815074920654\n",
      "満足度が低いレビューにおける「 ワーク 」と「 退屈 」の距離： 0.6562124490737915\n"
     ]
    }
   ],
   "metadata": {}
  },
  {
   "cell_type": "markdown",
   "source": [
    "### コミュニケーションの部分"
   ],
   "metadata": {}
  },
  {
   "cell_type": "code",
   "execution_count": 20,
   "source": [
    "distance_2words(\"社員\",\"遠い\")\n",
    "distance_2words(\"メンバー\",\"遠い\")"
   ],
   "outputs": [
    {
     "output_type": "stream",
     "name": "stdout",
     "text": [
      "満足度が高いレビューにおける「 社員 」と「 遠い 」の距離： 0.28223490715026855\n",
      "満足度が低いレビューにおける「 社員 」と「 遠い 」の距離： 0.46399521827697754\n",
      "満足度が高いレビューにおける「 メンバー 」と「 遠い 」の距離： 0.21867281198501587\n",
      "満足度が低いレビューにおける「 メンバー 」と「 遠い 」の距離： 0.43373924493789673\n"
     ]
    }
   ],
   "metadata": {}
  }
 ],
 "metadata": {
  "orig_nbformat": 4,
  "language_info": {
   "name": "python",
   "version": "3.8.10",
   "mimetype": "text/x-python",
   "codemirror_mode": {
    "name": "ipython",
    "version": 3
   },
   "pygments_lexer": "ipython3",
   "nbconvert_exporter": "python",
   "file_extension": ".py"
  },
  "kernelspec": {
   "name": "python3",
   "display_name": "Python 3.8.10 64-bit ('preproject-3TBHGyuJ-py3.8': poetry)"
  },
  "interpreter": {
   "hash": "1143c434777d5b1658e227caf6d1796f4e2ebc9550911ec8de1ae560a61566ca"
  }
 },
 "nbformat": 4,
 "nbformat_minor": 2
}